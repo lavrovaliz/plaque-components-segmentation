{
 "cells": [
  {
   "cell_type": "code",
   "execution_count": 109,
   "metadata": {},
   "outputs": [],
   "source": [
    "import numpy as np\n",
    "import os\n",
    "import glob\n",
    "from skimage.measure import label\n",
    "import pydicom\n",
    "import matplotlib.pyplot as plt\n",
    "import pandas as pd"
   ]
  },
  {
   "cell_type": "code",
   "execution_count": 12,
   "metadata": {},
   "outputs": [],
   "source": [
    "def calculate_dice(mask_1, mask_2):\n",
    "    intersection = np.sum(mask_1*mask_2)\n",
    "    sum_area = np.sum(mask_1) + np.sum(mask_2)\n",
    "    return 2*intersection/sum_area\n",
    "\n",
    "def calculate_overlap(mask_1, mask_2):\n",
    "    intersection = np.sum(mask_1*mask_2)\n",
    "    min_area = min(np.sum(mask_1), np.sum(mask_2))\n",
    "    return intersection/min_area"
   ]
  },
  {
   "cell_type": "code",
   "execution_count": 134,
   "metadata": {},
   "outputs": [],
   "source": [
    "def read_mask2d_dcm(dcm_path, cut=True):\n",
    "    \n",
    "    arr_dcm = pydicom.read_file(dcm_path, force = True)\n",
    "    arr_dcm.file_meta.TransferSyntaxUID = pydicom.uid.ImplicitVRLittleEndian        \n",
    "    arr = (arr_dcm.pixel_array>0)&(arr_dcm.pixel_array<7)\n",
    "    \n",
    "    if cut:\n",
    "        arr = arr[8:-8,8:-8]\n",
    "    \n",
    "    return arr.astype(int)\n",
    "\n",
    "def read_mask2d_npy(npy_path):\n",
    "    \n",
    "    arr = np.load(npy_path)\n",
    "    \n",
    "    return arr"
   ]
  },
  {
   "cell_type": "code",
   "execution_count": 135,
   "metadata": {},
   "outputs": [],
   "source": [
    "def path2array(dcm_path, cut=True):\n",
    "    arr_dcm = pydicom.read_file(dcm_path, force = True)\n",
    "    arr_dcm.file_meta.TransferSyntaxUID = pydicom.uid.ImplicitVRLittleEndian\n",
    "    arr = arr_dcm.pixel_array\n",
    "    if cut:\n",
    "        arr = arr[8:-8,8:-8]\n",
    "    return arr"
   ]
  },
  {
   "cell_type": "code",
   "execution_count": 87,
   "metadata": {},
   "outputs": [],
   "source": [
    "def detect_label(label_mask, gt_mask):\n",
    "    \n",
    "    max_overlap = 0\n",
    "    max_label = 0\n",
    "    max_dice = 0\n",
    "    \n",
    "    for l in range(1, np.max(label_mask)+1):\n",
    "        \n",
    "        label_mask_l = label_mask==l\n",
    "        d = calculate_dice(label_mask_l, gt_mask)\n",
    "        o = calculate_overlap(label_mask_l, gt_mask)\n",
    "        \n",
    "        if o>max_overlap:\n",
    "            \n",
    "            max_overlap = o\n",
    "            max_label = l\n",
    "            max_dice = d\n",
    "            \n",
    "        \n",
    "            \n",
    "    return max_label, max_overlap, max_dice"
   ]
  },
  {
   "cell_type": "markdown",
   "metadata": {},
   "source": [
    "# Test subset"
   ]
  },
  {
   "cell_type": "code",
   "execution_count": 10,
   "metadata": {},
   "outputs": [],
   "source": [
    "sub_names = os.listdir(\"I:/parisk_validation/validation_masks/test_set\")"
   ]
  },
  {
   "cell_type": "code",
   "execution_count": 23,
   "metadata": {},
   "outputs": [],
   "source": [
    "pred_dir = \"I:/parisk_validation/validation_masks/test_set/\"\n",
    "gt_dir =\"Z:/Lisa/PARISK/PARISK-XNAT/plaque_converted_unempty slices/\""
   ]
  },
  {
   "cell_type": "code",
   "execution_count": 113,
   "metadata": {},
   "outputs": [
    {
     "name": "stderr",
     "output_type": "stream",
     "text": [
      "C:\\ProgramData\\Anaconda3\\envs\\segway\\lib\\site-packages\\ipykernel_launcher.py:9: RuntimeWarning: invalid value encountered in long_scalars\n",
      "  if __name__ == '__main__':\n"
     ]
    }
   ],
   "source": [
    "df_outcomes = []\n",
    "\n",
    "for sub_name in sub_names:\n",
    "    \n",
    "    rec = {'sub': sub_name}\n",
    "    \n",
    "    pred_sub_dir = pred_dir + sub_name\n",
    "    filenames = os.listdir(pred_sub_dir)\n",
    "    filenames.sort()\n",
    "    \n",
    "    mask2d_pred_0 = read_mask2d_npy(pred_sub_dir + '/' + filenames[0])\n",
    "    \n",
    "    mask3d_pred = np.zeros([mask2d_pred_0.shape[0], mask2d_pred_0.shape[1], len(filenames)], dtype=np.uint8)\n",
    "    mask3d_gt = np.zeros([mask2d_pred_0.shape[0], mask2d_pred_0.shape[1], len(filenames)], dtype=np.uint8)\n",
    "    \n",
    "    counter = 0\n",
    "    \n",
    "    detect_slice = []\n",
    "    dice_slice = []\n",
    "    overlap_slice = []\n",
    "    \n",
    "    for filename in filenames:\n",
    "        \n",
    "        sl = filename[:-4]\n",
    "        pred_path = pred_sub_dir + '/' + filename\n",
    "        gt_path = glob.glob(gt_dir + '/' + sub_name + '*/MASSExport/*' + sl + '*.dcm')[0]\n",
    "        \n",
    "        mask2d_pred = read_mask2d_npy(pred_path)\n",
    "        mask2d_gt = read_mask2d_dcm(gt_path)\n",
    "        \n",
    "        mask3d_gt[:, :, counter] = mask2d_gt\n",
    "        \n",
    "        mask2d_pred_labeled = label(mask2d_pred)\n",
    "        \n",
    "        comp_label, comp_overlap, comp_dice = detect_label(mask2d_pred_labeled, mask2d_gt)\n",
    "        mask3d_pred[..., counter] = (mask2d_pred_labeled==comp_label).astype(np.uint8)\n",
    "\n",
    "        if (np.sum(mask2d_gt)>0)&(comp_overlap>0.5):\n",
    "            detected = 1\n",
    "\n",
    "        detect_slice.append(detected)\n",
    "        dice_slice.append(comp_dice)\n",
    "        overlap_slice.append(comp_overlap)\n",
    "        \n",
    "        detected=0\n",
    "        counter+=1\n",
    "        \n",
    "    comp_overlap_3d = calculate_overlap(mask3d_pred, mask3d_gt)\n",
    "    comp_dice_3d = calculate_dice(mask3d_pred, mask3d_gt)\n",
    "    \n",
    "    rec['detect_slice'] = detect_slice\n",
    "    rec['overlap_slice'] = overlap_slice\n",
    "    rec['dice_slice'] = dice_slice\n",
    "    \n",
    "    rec['detect_patient'] = int(comp_overlap_3d>0.5)\n",
    "    rec['overlap_patient'] = comp_overlap_3d\n",
    "    rec['dice_patient'] = comp_dice_3d\n",
    "    \n",
    "    df_outcomes.append(rec)\n",
    "    \n",
    "df_outcomes = pd.DataFrame(df_outcomes)"
   ]
  },
  {
   "cell_type": "code",
   "execution_count": 122,
   "metadata": {},
   "outputs": [],
   "source": [
    "detect_slice = []\n",
    "\n",
    "for line in df_outcomes['detect_slice']:\n",
    "    detect_slice.extend(line)\n",
    "    \n",
    "overlap_slice = []\n",
    "\n",
    "for line in df_outcomes['overlap_slice']:\n",
    "    overlap_slice.extend(line)\n",
    "    \n",
    "dice_slice = []\n",
    "\n",
    "for line in df_outcomes['dice_slice']:\n",
    "    dice_slice.extend(line)"
   ]
  },
  {
   "cell_type": "code",
   "execution_count": 123,
   "metadata": {},
   "outputs": [
    {
     "data": {
      "text/plain": [
       "(0.85, 0.8414095040498103, 0.611884878860855)"
      ]
     },
     "execution_count": 123,
     "metadata": {},
     "output_type": "execute_result"
    }
   ],
   "source": [
    "np.mean(detect_slice), np.mean(overlap_slice), np.mean(dice_slice)"
   ]
  },
  {
   "cell_type": "markdown",
   "metadata": {},
   "source": [
    "# EMC"
   ]
  },
  {
   "cell_type": "code",
   "execution_count": 126,
   "metadata": {},
   "outputs": [],
   "source": [
    "sub_names = os.listdir(\"I:/parisk_validation/validation_sets/EMC\")"
   ]
  },
  {
   "cell_type": "code",
   "execution_count": 131,
   "metadata": {},
   "outputs": [],
   "source": [
    "pred_dir = \"I:/parisk_validation/validation_masks/EMC/\"\n",
    "gt_dir =\"I:/parisk_validation/validation_sets/EMC/\""
   ]
  },
  {
   "cell_type": "code",
   "execution_count": 144,
   "metadata": {},
   "outputs": [],
   "source": [
    "df_outcomes = []\n",
    "\n",
    "for sub_name in sub_names:\n",
    "    \n",
    "    rec = {'sub': sub_name}\n",
    "    \n",
    "    pred_sub_dir = pred_dir + sub_name\n",
    "    filenames = os.listdir(pred_sub_dir)\n",
    "    filenames.sort()\n",
    "    \n",
    "    mask2d_pred_0 = read_mask2d_npy(pred_sub_dir + '/' + filenames[0])[:256, :256]\n",
    "    \n",
    "    mask3d_pred = np.zeros([mask2d_pred_0.shape[0], mask2d_pred_0.shape[1], len(filenames)], dtype=np.uint8)\n",
    "    mask3d_gt = np.zeros([mask2d_pred_0.shape[0], mask2d_pred_0.shape[1], len(filenames)], dtype=np.uint8)\n",
    "    \n",
    "    counter = 0\n",
    "    \n",
    "    detect_slice = []\n",
    "    dice_slice = []\n",
    "    overlap_slice = []\n",
    "    \n",
    "    for filename in filenames:\n",
    "        \n",
    "        sl = filename[:-4]\n",
    "        pred_path = pred_sub_dir + '/' + filename\n",
    "        gt_path = glob.glob(gt_dir + '/' + sub_name + '*/MASSExport/*' + sl + '*.dcm')[0]\n",
    "        \n",
    "        mask2d_pred = read_mask2d_npy(pred_path)[:256, :256]\n",
    "        mask2d_gt = read_mask2d_dcm(gt_path, cut=False)\n",
    "        \n",
    "        mask3d_gt[:, :, counter] = mask2d_gt\n",
    "        \n",
    "        mask2d_pred_labeled = label(mask2d_pred)\n",
    "        \n",
    "        comp_label, comp_overlap, comp_dice = detect_label(mask2d_pred_labeled, mask2d_gt)\n",
    "        mask3d_pred[..., counter] = (mask2d_pred_labeled==comp_label).astype(np.uint8)\n",
    "\n",
    "        if (np.sum(mask2d_gt)>0)&(comp_overlap>0.5):\n",
    "            detected = 1\n",
    "\n",
    "        detect_slice.append(detected)\n",
    "        dice_slice.append(comp_dice)\n",
    "        overlap_slice.append(comp_overlap)\n",
    "        \n",
    "        detected=0\n",
    "        counter+=1\n",
    "        \n",
    "    comp_overlap_3d = calculate_overlap(mask3d_pred, mask3d_gt)\n",
    "    comp_dice_3d = calculate_dice(mask3d_pred, mask3d_gt)\n",
    "    \n",
    "    rec['detect_slice'] = detect_slice\n",
    "    rec['overlap_slice'] = overlap_slice\n",
    "    rec['dice_slice'] = dice_slice\n",
    "    \n",
    "    rec['detect_patient'] = int(comp_overlap_3d>0.5)\n",
    "    rec['overlap_patient'] = comp_overlap_3d\n",
    "    rec['dice_patient'] = comp_dice_3d\n",
    "    \n",
    "    df_outcomes.append(rec)\n",
    "    \n",
    "df_outcomes = pd.DataFrame(df_outcomes)"
   ]
  },
  {
   "cell_type": "code",
   "execution_count": 146,
   "metadata": {},
   "outputs": [],
   "source": [
    "detect_slice = []\n",
    "\n",
    "for line in df_outcomes['detect_slice']:\n",
    "    detect_slice.extend(line)\n",
    "    \n",
    "overlap_slice = []\n",
    "\n",
    "for line in df_outcomes['overlap_slice']:\n",
    "    overlap_slice.extend(line)\n",
    "    \n",
    "dice_slice = []\n",
    "\n",
    "for line in df_outcomes['dice_slice']:\n",
    "    dice_slice.extend(line)"
   ]
  },
  {
   "cell_type": "code",
   "execution_count": 147,
   "metadata": {},
   "outputs": [
    {
     "data": {
      "text/plain": [
       "(0.169921875, 0.1676905193521372, 0.11436700336428479)"
      ]
     },
     "execution_count": 147,
     "metadata": {},
     "output_type": "execute_result"
    }
   ],
   "source": [
    "np.mean(detect_slice), np.mean(overlap_slice), np.mean(dice_slice)"
   ]
  },
  {
   "cell_type": "code",
   "execution_count": null,
   "metadata": {},
   "outputs": [],
   "source": []
  }
 ],
 "metadata": {
  "kernelspec": {
   "display_name": "Python 3",
   "language": "python",
   "name": "python3"
  },
  "language_info": {
   "codemirror_mode": {
    "name": "ipython",
    "version": 3
   },
   "file_extension": ".py",
   "mimetype": "text/x-python",
   "name": "python",
   "nbconvert_exporter": "python",
   "pygments_lexer": "ipython3",
   "version": "3.7.3"
  }
 },
 "nbformat": 4,
 "nbformat_minor": 2
}
