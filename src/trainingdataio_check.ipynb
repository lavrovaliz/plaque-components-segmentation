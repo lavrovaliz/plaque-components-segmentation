{
 "cells": [
  {
   "cell_type": "code",
   "execution_count": 71,
   "id": "1ec00277",
   "metadata": {},
   "outputs": [],
   "source": [
    "import matplotlib.pyplot as plt\n",
    "import matplotlib.image as mpimg\n",
    "import pandas as pd\n",
    "import json\n",
    "import glob\n",
    "import os"
   ]
  },
  {
   "cell_type": "code",
   "execution_count": 5,
   "id": "71a45f56",
   "metadata": {},
   "outputs": [],
   "source": [
    "# Opening JSON file\n",
    "f = open(r\"C:\\Users\\e.lavrova\\Downloads\\2452-lavrovaliz@gmail.com-2021-05-11\\coco\\2452.coco.json\")\n",
    "  \n",
    "# returns JSON object as \n",
    "# a dictionary\n",
    "data = json.load(f)"
   ]
  },
  {
   "cell_type": "code",
   "execution_count": 14,
   "id": "25af4a4e",
   "metadata": {},
   "outputs": [],
   "source": [
    "annotations = pd.DataFrame(data['annotations'])"
   ]
  },
  {
   "cell_type": "code",
   "execution_count": 77,
   "id": "88918696",
   "metadata": {},
   "outputs": [],
   "source": [
    "imgnames = os.listdir('C:/Images/img_demo/')\n",
    "codes = []\n",
    "\n",
    "n = 1\n",
    "for imgname in imgnames:\n",
    "\n",
    "    img=mpimg.imread('C:/Images/img_demo/' + imgname)\n",
    "\n",
    "    plt.figure(figsize=(25, 15))\n",
    "\n",
    "    plt.subplot(1, 2, 1)\n",
    "    plt.imshow(img, cmap = 'bone')\n",
    "    plt.title('original')\n",
    "\n",
    "    plt.subplot(1, 2, 2)\n",
    "    plt.imshow(img, cmap = 'bone')\n",
    "    plt.title('segmented')\n",
    "\n",
    "    counter = 1\n",
    "    for index, row in annotations.loc[annotations.image_id=='img_demo/' + imgname].iterrows():\n",
    "        segmentation = row['segmentation']\n",
    "        coord = [[segmentation[0],segmentation[1]], [segmentation[2],segmentation[3]], \n",
    "                 [segmentation[4],segmentation[5]], [segmentation[6],segmentation[7]]]\n",
    "        coord.append(coord[0]) #repeat the first point to create a 'closed loop'\n",
    "\n",
    "        xs, ys = zip(*coord) #create lists of x and y values\n",
    "\n",
    "        plt.plot(xs,ys, 'r') \n",
    "        plt.text(coord[0][0], coord[0][1], str(counter), color = 'y', fontsize = 'x-large')\n",
    "        counter += 1\n",
    "\n",
    "\n",
    "    plt.subplots_adjust(wspace=0, hspace=0)\n",
    "    \n",
    "    code = str(n).zfill(4)\n",
    "    rec = {'filename': imgname, 'code': code}\n",
    "    codes.append(rec)\n",
    "    \n",
    "    plt.savefig('C:/users/e.lavrova/Documents/Python Scripts/Plaque/vsls_check/' + code + '.png')\n",
    "    plt.close()\n",
    "    \n",
    "    n += 1"
   ]
  },
  {
   "cell_type": "code",
   "execution_count": 80,
   "id": "0bb820d4",
   "metadata": {},
   "outputs": [],
   "source": [
    "pd.DataFrame(codes).to_csv('codes_demo.csv')\n"
   ]
  },
  {
   "cell_type": "code",
   "execution_count": null,
   "id": "be1429de",
   "metadata": {},
   "outputs": [],
   "source": []
  }
 ],
 "metadata": {
  "kernelspec": {
   "display_name": "Python 3",
   "language": "python",
   "name": "python3"
  },
  "language_info": {
   "codemirror_mode": {
    "name": "ipython",
    "version": 3
   },
   "file_extension": ".py",
   "mimetype": "text/x-python",
   "name": "python",
   "nbconvert_exporter": "python",
   "pygments_lexer": "ipython3",
   "version": "3.7.1"
  }
 },
 "nbformat": 4,
 "nbformat_minor": 5
}
