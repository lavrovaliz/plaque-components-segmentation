{
 "cells": [
  {
   "cell_type": "code",
   "execution_count": 69,
   "metadata": {},
   "outputs": [],
   "source": [
    "import os\n",
    "import glob\n",
    "import pydicom\n",
    "import matplotlib.pyplot as plt\n",
    "import matplotlib.patches as mpatches\n",
    "import cv2\n",
    "import numpy as np\n",
    "import matplotlib.patches as patches\n",
    "from nms import nms\n",
    "from PIL import Image"
   ]
  },
  {
   "cell_type": "code",
   "execution_count": 48,
   "metadata": {},
   "outputs": [
    {
     "name": "stdout",
     "output_type": "stream",
     "text": [
      "Requirement already satisfied: nms in c:\\users\\e.lavrova\\.conda\\envs\\lisa\\lib\\site-packages (0.1.6)\n",
      "Requirement already satisfied: numpy in c:\\users\\e.lavrova\\.conda\\envs\\lisa\\lib\\site-packages (from nms) (1.18.1)\n"
     ]
    }
   ],
   "source": [
    "#!pip install nms"
   ]
  },
  {
   "cell_type": "markdown",
   "metadata": {},
   "source": [
    "## Cascade"
   ]
  },
  {
   "cell_type": "code",
   "execution_count": 55,
   "metadata": {},
   "outputs": [],
   "source": [
    "vessel_cascade = cv2.CascadeClassifier(\"cascade.xml\")"
   ]
  },
  {
   "cell_type": "code",
   "execution_count": 56,
   "metadata": {},
   "outputs": [],
   "source": [
    "def parse_filename(filename):\n",
    "    n_id = filename.split(os.sep)[1]\n",
    "    n_sl = filename.split(os.sep)[-1][4:8]\n",
    "    return n_id, n_sl"
   ]
  },
  {
   "cell_type": "code",
   "execution_count": 57,
   "metadata": {},
   "outputs": [],
   "source": [
    "dcm_files = glob.glob('Z:/Lisa/PARISK/PARISK-MRI-Carotid/MUMC*/MASSExport/T1w_*.dcm')\n",
    "con_files = glob.glob('Z:/Lisa/PARISK/PARISK-MRI-Carotid/MUMC*/contours/con_*.dcm')"
   ]
  },
  {
   "cell_type": "code",
   "execution_count": 58,
   "metadata": {},
   "outputs": [],
   "source": [
    "l = []"
   ]
  },
  {
   "cell_type": "code",
   "execution_count": 85,
   "metadata": {},
   "outputs": [],
   "source": [
    "for dcm_file in dcm_files:\n",
    "    \n",
    "    patient_number, slice_number = parse_filename(dcm_file)\n",
    "    \n",
    "    dcm = pydicom.read_file(dcm_file, force = True)\n",
    "    dcm.file_meta.TransferSyntaxUID = pydicom.uid.ImplicitVRLittleEndian\n",
    "    dcm_img = dcm.pixel_array\n",
    "    \n",
    "    dcm_min = np.min(dcm_img)\n",
    "    dcm_max = np.max(dcm_img)\n",
    "    \n",
    "    dcm_res = (np.round((dcm_img-dcm_min)/(dcm_max-dcm_min)*255)).astype(np.uint8)\n",
    "    \n",
    "    vessels = vessel_cascade.detectMultiScale3(dcm_res, 1.1, 3, minSize=(20, 20), maxSize=(75, 75), outputRejectLevels=True)\n",
    "    \n",
    "    vessel_rects = []\n",
    "    for vessel in vessels[0]:\n",
    "        vessel_rects.append((vessel[0], vessel[1], vessel[2], vessel[3]))\n",
    "    \n",
    "    confs = []\n",
    "    for c in vessels[2]:\n",
    "        confs.append(c[0])\n",
    "        \n",
    "    idxs = nms.boxes(vessel_rects, confs)\n",
    "    \n",
    "    fig, ax = plt.subplots(figsize = (10,10)) \n",
    "    plt.xticks([])\n",
    "    plt.yticks([])\n",
    "    imgplot = plt.imshow(cv2.cvtColor(dcm_res, cv2.COLOR_BGR2RGB))\n",
    "\n",
    "    for idx in idxs:\n",
    "        x = vessels[0][idx][0]\n",
    "        y = vessels[0][idx][1]\n",
    "        w = vessels[0][idx][2]\n",
    "        h = vessels[0][idx][3]\n",
    "        rect = patches.Rectangle((x,y),w,h,linewidth=1,edgecolor='r',facecolor='none')\n",
    "        ax.add_patch(rect)\n",
    "        ax.text(x, y, str(idx), horizontalalignment='left', verticalalignment='top', color='y')\n",
    "        \n",
    "        box = np.copy(dcm_res[y:y+h,x:x+w])\n",
    "        im = Image.fromarray(box)\n",
    "        im.save('Z:/lisa/vessel_class_data/'+ patient_number + '_' + slice_number + '_' + str(idx) + '.png')\n",
    "\n",
    "    plt.title(patient_number + ' ' + slice_number)\n",
    "    plt.savefig('Z:/Lisa/vessel_det_res/'+ patient_number + '_' + slice_number + '.png')\n",
    "    plt.close()"
   ]
  },
  {
   "cell_type": "markdown",
   "metadata": {},
   "source": [
    "## Save for segmentation"
   ]
  },
  {
   "cell_type": "code",
   "execution_count": 86,
   "metadata": {},
   "outputs": [],
   "source": [
    "t1w_files = glob.glob('Z:/Lisa/PARISK/PARISK-MRI-Carotid/MUMC*/MASSExport/T1w_*.dcm')\n",
    "tof_files = glob.glob('Z:/Lisa/PARISK/PARISK-MRI-Carotid/MUMC*/MASSExport/3DTOF*.dcm')\n",
    "con_files = glob.glob('Z:/Lisa/PARISK/PARISK-MRI-Carotid/MUMC*/contours/con_*.dcm')"
   ]
  },
  {
   "cell_type": "code",
   "execution_count": 95,
   "metadata": {},
   "outputs": [],
   "source": [
    "for i in range (0, len(con_files)):\n",
    "    \n",
    "    t1w_file = t1w_files[i]\n",
    "    tof_file = tof_files[i]\n",
    "    con_file = con_files[i]\n",
    "    \n",
    "    patient_number, slice_number = parse_filename(t1w_file)\n",
    "    \n",
    "    t1w_dcm = pydicom.read_file(t1w_file, force = True)\n",
    "    t1w_dcm.file_meta.TransferSyntaxUID = pydicom.uid.ImplicitVRLittleEndian\n",
    "    t1w = t1w_dcm.pixel_array\n",
    "\n",
    "    t1w_min = np.min(t1w)\n",
    "    t1w_max = np.max(t1w)\n",
    "\n",
    "    t1w_res = (np.round((t1w-t1w_min)/(t1w_max-t1w_min)*255)).astype(np.uint8)\n",
    "\n",
    "    tof_dcm = pydicom.read_file(tof_file, force = True)\n",
    "    tof_dcm.file_meta.TransferSyntaxUID = pydicom.uid.ImplicitVRLittleEndian\n",
    "    tof = tof_dcm.pixel_array\n",
    "\n",
    "    con_dcm = pydicom.read_file(con_file, force = True)\n",
    "    con_dcm.file_meta.TransferSyntaxUID = pydicom.uid.ImplicitVRLittleEndian\n",
    "    con = con_dcm.pixel_array\n",
    "\n",
    "    fig, ax = plt.subplots(figsize = (20,10)) \n",
    "\n",
    "    plt.subplot(1, 2, 1)\n",
    "    plt.imshow(t1w)\n",
    "    plt.contour(con, levels=[0.5], colors='r')\n",
    "    plt.axis('Off')\n",
    "\n",
    "    plt.subplot(1, 2, 2)\n",
    "    plt.imshow(tof)\n",
    "    plt.axis('Off')\n",
    "\n",
    "    plt.suptitle(patient_number + ' ' + slice_number)\n",
    "    plt.savefig('Z:/Lisa/vessel_train/t1w_tof/'+ patient_number + '_' + slice_number + '.png')\n",
    "    plt.close()\n",
    "\n",
    "    im = Image.fromarray(t1w_res)\n",
    "    im.save('Z:/lisa/vessel_train/t1w/'+ patient_number + '_' + slice_number +  '.png')"
   ]
  },
  {
   "cell_type": "code",
   "execution_count": null,
   "metadata": {},
   "outputs": [],
   "source": []
  }
 ],
 "metadata": {
  "kernelspec": {
   "display_name": "Python 3",
   "language": "python",
   "name": "python3"
  },
  "language_info": {
   "codemirror_mode": {
    "name": "ipython",
    "version": 3
   },
   "file_extension": ".py",
   "mimetype": "text/x-python",
   "name": "python",
   "nbconvert_exporter": "python",
   "pygments_lexer": "ipython3",
   "version": "3.7.6"
  }
 },
 "nbformat": 4,
 "nbformat_minor": 4
}
